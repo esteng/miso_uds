{
 "cells": [
  {
   "cell_type": "code",
   "execution_count": 1,
   "metadata": {},
   "outputs": [],
   "source": [
    "import sys\n",
    "import os\n",
    "import re\n",
    "\n",
    "from decomp import UDSCorpus\n",
    "\n",
    "sys.path.insert(0, \"/home/hltcoe/estengel/miso_research\")\n",
    "\n",
    "from miso.metrics.conllu import load_conllu\n",
    "from miso.commands.predict import parse_api_sentence\n",
    "\n"
   ]
  },
  {
   "cell_type": "code",
   "execution_count": 2,
   "metadata": {
    "tags": []
   },
   "outputs": [
    {
     "output_type": "stream",
     "name": "stdout",
     "text": [
      "/home/hltcoe/estengel/miso_research/data/ai2_clean/en_combo-ud-test.altered_only.noun-to-verb.conllu\n/home/hltcoe/estengel/miso_research/data/ai2_clean/en_combo-ud-test.altered_only.verb-to-noun.conllu\n/home/hltcoe/estengel/miso_research/data/ai2_clean/en_combo-ud-test.original_only.noun-to-verb.conllu\n/home/hltcoe/estengel/miso_research/data/ai2_clean/en_combo-ud-test.original_only.verb-to-noun.conllu\n"
     ]
    }
   ],
   "source": [
    "import pathlib \n",
    "\n",
    "def get_blocks(ud_str):\n",
    "    blocks = ud_str.split(\"\\n\\n\")[:-1]\n",
    "    blocks = [block.split(\"\\n\") for block in blocks]\n",
    "    return blocks\n",
    "\n",
    "def get_forms(blocks):\n",
    "    sentences = []\n",
    "    all_tags = []\n",
    "    for block in blocks:\n",
    "        sent = []\n",
    "        tags = []\n",
    "        for line in block:\n",
    "            if line[0] == \"#\":\n",
    "                continue\n",
    "            form = line.split(\"\\t\")[1]\n",
    "            tag = line.split(\"\\t\")[3]\n",
    "            sent.append(form)\n",
    "            tags.append(tag)\n",
    "        sentences.append((\" \".join(sent), \",\".join(tags)))\n",
    "    return sentences\n",
    "    \n",
    "# get all possible \"with\" pp ambiguity sentences \n",
    "def read_ud_input(path):\n",
    "    with open(path) as f1:\n",
    "        data_str = f1.read()\n",
    "        data_blocks = get_blocks(data_str)\n",
    "        data_sents = get_forms(data_blocks)\n",
    "\n",
    "    return data_sents\n",
    "\n",
    "top = pathlib.Path(\"/home/hltcoe/estengel/miso_research/data/ai2_clean/\")\n",
    "clean = pathlib.Path(\"/home/hltcoe/estengel/miso_research/data/ai2_clean/\")\n",
    "all_ud = top.glob(\"*.conllu\")\n",
    "for path in all_ud:     \n",
    "    print(str(path))\n",
    "    data = read_ud_input(str(path)) \n",
    "    filename = path.stem + \".lines\"\n",
    "    with open(clean.joinpath(filename), \"w\") as f1:\n",
    "        for sent, tags in data:\n",
    "            f1.write(f\"{sent}\\t{tags}\\n\")\n",
    "                                    \n",
    "        \n"
   ]
  },
  {
   "cell_type": "code",
   "execution_count": 3,
   "metadata": {
    "tags": []
   },
   "outputs": [
    {
     "output_type": "stream",
     "name": "stdout",
     "text": [
      "done\n"
     ]
    }
   ],
   "source": [
    "with open(\"/home/hltcoe/estengel/miso_research/data/ai2_clean/en_combo-ud-test.altered_only.verb-to-noun.conllu\") as f1:\n",
    "    data = load_conllu(f1)\n",
    "print(\"done\")\n",
    "    "
   ]
  },
  {
   "cell_type": "code",
   "execution_count": 4,
   "metadata": {},
   "outputs": [
    {
     "name": "stdout",
     "output_type": "stream",
     "text": [
      "with semantics: 0.8333333333333334\n",
      "no semantics: 0.8333333333333334\n"
     ]
    }
   ],
   "source": []
  },
  {
   "cell_type": "code",
   "execution_count": null,
   "metadata": {},
   "outputs": [],
   "source": []
  },
  {
   "cell_type": "code",
   "execution_count": null,
   "metadata": {},
   "outputs": [],
   "source": []
  }
 ],
 "metadata": {
  "kernelspec": {
   "display_name": "Python 3",
   "language": "python",
   "name": "python3"
  },
  "language_info": {
   "codemirror_mode": {
    "name": "ipython",
    "version": 3
   },
   "file_extension": ".py",
   "mimetype": "text/x-python",
   "name": "python",
   "nbconvert_exporter": "python",
   "pygments_lexer": "ipython3",
   "version": "3.6.8-final"
  }
 },
 "nbformat": 4,
 "nbformat_minor": 4
}