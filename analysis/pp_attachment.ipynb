{
 "cells": [
  {
   "cell_type": "code",
   "execution_count": 1,
   "metadata": {},
   "outputs": [],
   "source": [
    "import sys\n",
    "import os\n",
    "import re\n",
    "\n",
    "from decomp import UDSCorpus\n",
    "\n",
    "sys.path.insert(0, \"/home/hltcoe/estengel/miso_research\")\n"
   ]
  },
  {
   "cell_type": "code",
   "execution_count": 2,
   "metadata": {},
   "outputs": [
    {
     "name": "stdout",
     "output_type": "stream",
     "text": [
      "254\n"
     ]
    }
   ],
   "source": [
    "# get all possible \"with\" pp ambiguity sentences \n",
    "def read_uds(old_path, new_path):\n",
    "    with open(old_path) as f1, open(new_path) as f2:\n",
    "        old_data = f1.read()\n",
    "        new_data = f2.read()\n",
    "        \n",
    "    old_data = old_data.split(\"\\n\\n\")\n",
    "    new_data = new_data.split(\"\\n\\n\")\n",
    "    assert(len(old_data) == len(new_data))\n",
    "\n",
    "    examples = []\n",
    "    for i, block in enumerate(old_data):\n",
    "        new_block = new_data[i]\n",
    "        block = block.strip().split(\"\\n\")\n",
    "        try:\n",
    "            text = \" \".join([line.split('\\t')[1] for line in block])\n",
    "        except IndexError:\n",
    "            pass\n",
    "\n",
    "        for line in block:\n",
    "            if \"obl:with\" in new_block \\\n",
    "            or \"obl:in\" in new_block:\n",
    "                examples.append(text)\n",
    "                break\n",
    "                \n",
    "    print(len(examples))\n",
    "    return examples    \n",
    "\n",
    "# need new data to get the obliques, old data to get the correct sentence tokenization \n",
    "example_sents = read_uds(\"/home/hltcoe/estengel//Parser-v1/data/EWT/en-ud-dev.conllu\",\n",
    "                        \"/home/hltcoe/estengel//Parser-v1/data/EWT/en_ewt-ud-dev.conllu\")"
   ]
  },
  {
   "cell_type": "code",
   "execution_count": 3,
   "metadata": {},
   "outputs": [],
   "source": [
    "# subset dev data for those sentneces \n",
    "c = UDSCorpus(split=\"dev\")\n",
    "i=0\n",
    "pp_graphs = {}\n",
    "for gname, g in c.items():\n",
    "    if g.sentence in example_sents:\n",
    "        pp_graphs[gname] = g\n",
    "        i+=1  \n",
    "# make sure they're all still there\n",
    "assert(i==len(example_sents))\n",
    "\n",
    "subcorpus = UDSCorpus()\n",
    "# manually set subcorpus graphs \n",
    "subcorpus._graphs = pp_graphs\n",
    "subcorpus.to_json(\"/home/hltcoe/estengel/miso_research/analysis/pp_graphs.json\")\n"
   ]
  },
  {
   "cell_type": "code",
   "execution_count": 4,
   "metadata": {},
   "outputs": [
    {
     "name": "stdout",
     "output_type": "stream",
     "text": [
      "with semantics: 0.8333333333333334\n",
      "no semantics: 0.8333333333333334\n"
     ]
    }
   ],
   "source": [
    "# NO SEMANTICS UAS: 93.3966249125261, LAS: 90.78295031582306, MLAS: 86.0005524913146, BLEX: 87.83526099148335\n",
    "# WITH SEMANTICS: UAS: 94.34984112898016, LAS: 92.278784184067, MLAS: 88.48704077260655, BLEX: 89.59837183460822\n",
    "# Is this significantly higher than the other one\n",
    "\n",
    "def get_with_root(block, do_print=False):\n",
    "    block = [x for x in block if x != '']\n",
    "    double_head = None \n",
    "    for line in block:\n",
    "        line = line.split(\"\\t\")\n",
    "        if line == [\"\"]:\n",
    "            continue\n",
    "\n",
    "        if line[1] == \"with\":\n",
    "            with_head = int(line[6])\n",
    "            if do_print:\n",
    "                print(block[with_head-1].split(\"\\t\"))\n",
    "                if block[with_head-1].split(\"\\t\")[1] == \"with\":\n",
    "                    print(\"ERROR\")\n",
    "                    print(block)\n",
    "                    sys.exit()\n",
    "            double_head = int(block[with_head-1].split(\"\\t\")[6])\n",
    "    return double_head \n",
    "\n",
    "\n",
    "def get_with_acc(pred_blocks, true_blocks, do_print=False):\n",
    "    total = 0\n",
    "    correct = 0 \n",
    "    for pb, tb in zip(pred_blocks, true_blocks):\n",
    "        pred_head = get_with_root(pb)\n",
    "        true_head = get_with_root(tb, do_print)\n",
    "        total += 1\n",
    "        if pred_head == true_head:\n",
    "            correct += 1\n",
    "    return correct/total \n",
    "\n",
    "def read_log(path):\n",
    "    with open(path) as f1:\n",
    "        blocks = f1.read()\n",
    "\n",
    "    # drop final line \n",
    "    blocks = blocks.split(\"\\n\\n\")[:-1]\n",
    "    # logs alternate pred and true \n",
    "    pred_blocks, true_blocks = [], []\n",
    "    for i, b in enumerate(blocks):\n",
    "        pred, true = False, False\n",
    "        if i % 2 == 0:\n",
    "            true=True\n",
    "        else:\n",
    "            pred=True\n",
    "            \n",
    "        b = b.split(\"\\n\")\n",
    "       \n",
    "        if pred:\n",
    "            # drop comments \n",
    "            b = [x for x in b if not x.startswith(\"#\")]\n",
    "            pred_blocks.append(b)\n",
    "        elif true:\n",
    "            b = [x for x in b if not x.startswith(\"#\")]\n",
    "            true_blocks.append(b)\n",
    "        else:\n",
    "            raise AssertionError()\n",
    "            \n",
    "            \n",
    "    return pred_blocks, true_blocks\n",
    "\n",
    "pred_blocks1, true_blocks1 = read_log(\"/home/hltcoe/estengel/miso_research/analysis/with_sem.out\")\n",
    "with_sem_acc = get_with_acc(pred_blocks1, true_blocks1)         \n",
    "\n",
    "print(f\"with semantics: {with_sem_acc}\")\n",
    "\n",
    "pred_blocks2, true_blocks2 = read_log(\"/home/hltcoe/estengel/miso_research/analysis/no_sem.out\")\n",
    "no_sem_acc = get_with_acc(pred_blocks2, true_blocks2, do_print=False)         \n",
    "\n",
    "print(f\"no semantics: {no_sem_acc}\")\n",
    "\n"
   ]
  },
  {
   "cell_type": "code",
   "execution_count": null,
   "metadata": {},
   "outputs": [],
   "source": []
  },
  {
   "cell_type": "code",
   "execution_count": null,
   "metadata": {},
   "outputs": [],
   "source": []
  }
 ],
 "metadata": {
  "kernelspec": {
   "display_name": "Python 3",
   "language": "python",
   "name": "python3"
  },
  "language_info": {
   "codemirror_mode": {
    "name": "ipython",
    "version": 3
   },
   "file_extension": ".py",
   "mimetype": "text/x-python",
   "name": "python",
   "nbconvert_exporter": "python",
   "pygments_lexer": "ipython3",
   "version": "3.6.8"
  }
 },
 "nbformat": 4,
 "nbformat_minor": 4
}
