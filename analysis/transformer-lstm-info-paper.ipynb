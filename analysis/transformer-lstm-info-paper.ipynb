{
 "cells": [
  {
   "cell_type": "code",
   "execution_count": 1,
   "metadata": {},
   "outputs": [],
   "source": [
    "import numpy as np\n",
    "import matplotlib\n",
    "from matplotlib import pyplot as plt\n",
    "import os\n",
    "import sys\n",
    "import json \n",
    "import re\n",
    "from decomp import UDSCorpus\n",
    "\n",
    "\n",
    "font = {'family' : 'Times New Roman',\n",
    "        'weight' : 'regular',\n",
    "        'size'   : 22}\n",
    "\n",
    "matplotlib.rc('font', **font)\n",
    "\n",
    "\n",
    "\n",
    "\n",
    "miso_path = \"/home/hltcoe/estengel/miso_research\"\n",
    "sys.path.insert(0, miso_path)\n",
    "\n",
    "PLOT_DIR = \"/home/hltcoe/estengel/syntax-semantics-2020/figures/\"\n",
    "\n"
   ]
  },
  {
   "cell_type": "code",
   "execution_count": 2,
   "metadata": {},
   "outputs": [],
   "source": [
    "transformer_data_path = \"/exp/estengel/miso_res/new_models/decomp-transformer-best/data.json\"\n",
    "bilstm_data_path = \"/exp/estengel/miso_res/new_models/decomp-lstm-base/data.json\"\n",
    "unilstm_data_path = \"/exp/estengel/miso_res/analysis/decomp_lstm_unidirectional/data.json\"\n",
    "\n",
    "\n",
    "paths = {\"tfmr\": \"/exp/estengel/miso_res/new_models/decomp-transformer-best/data.json\",\n",
    "        \"bilstm\": \"/exp/estengel/miso_res/new_models/decomp-lstm-base/data.json\",\n",
    "        \"unilstm\":\"/exp/estengel/miso_res/analysis/decomp_lstm_unidirectional/data.json\",\n",
    "        \"tfmr + en\": \"/exp/estengel/miso_res/experimental/transformer/decomp_transformer_encoder_best/data.json\",\n",
    "        \"bilstm + en\": \"/exp/estengel/miso_res/new_interface/decomp_lstm_encoder/data.json\"}\n",
    "\n",
    "\n",
    "data = {k: None for k in paths.keys()}\n",
    "\n",
    "for key, path in paths.items():\n",
    "    with open(path) as f1:\n",
    "        key_data = json.load(f1)\n",
    "        data[key] = key_data\n",
    "        \n",
    "\n",
    "    \n",
    "# build ontology\n",
    "attribute_ontology = list(sorted(data['tfmr'].keys()))\n",
    "    "
   ]
  },
  {
   "cell_type": "code",
   "execution_count": 3,
   "metadata": {},
   "outputs": [],
   "source": [
    "# need to re-munge output \n",
    "# current output: {subspace: {true: {nodes},\n",
    "#                              pred: {nodes}}\n",
    "# what we want:\n",
    "# {sentence: {node_id: {subspace: (true, pred)}}}\n",
    "\n",
    "def get_sent_id(whole_id):\n",
    "    sent_id = \"-\".join(whole_id.split(\"-\")[0:3])\n",
    "    sent_idx = int(whole_id.split(\"-\")[2])\n",
    "    return sent_id, sent_idx\n",
    "\n",
    "def get_node_id(whole_id):\n",
    "    node_id = \"-\".join(whole_id.split(\"-\")[3:])\n",
    "    node_idx = int(whole_id.split(\"-\")[-1])\n",
    "    return node_id, node_idx\n",
    "\n",
    "out_dict = {k:{} for k in data.keys()}\n",
    "# for model, model_data in zip([\"bilstm\", \"unilstm\", \"tfmr\"], [bilstm_data, unilstm_data, tfmr_data]):\n",
    "for model, model_data in data.items(): \n",
    "    lil_dict = out_dict[model]\n",
    "    # loop once to collect all sentence ids and node ids \n",
    "    for subspace_id, subspace_dict in model_data.items():\n",
    "        for whole_id in subspace_dict[\"true_val_with_node_ids\"]:\n",
    "            sent_id, sent_idx = get_sent_id(whole_id)\n",
    "            if sent_idx not in lil_dict.keys():\n",
    "                lil_dict[sent_idx] = {}\n",
    "            node_id, node_idx = get_node_id(whole_id)\n",
    "            if node_idx not in lil_dict[sent_idx].keys():\n",
    "                lil_dict[sent_idx][node_idx] = {}\n",
    "                \n",
    "            true_node_value = subspace_dict[\"true_val_with_node_ids\"][whole_id]\n",
    "            pred_node_value = subspace_dict[\"pred_val_with_node_ids\"][whole_id]\n",
    "            lil_dict[sent_idx][node_idx][subspace_id] = (true_node_value, pred_node_value)\n",
    "            \n",
    "    out_dict[model] = lil_dict\n",
    "            "
   ]
  },
  {
   "cell_type": "code",
   "execution_count": 4,
   "metadata": {},
   "outputs": [
    {
     "name": "stdout",
     "output_type": "stream",
     "text": [
      "avg len 12.561438561438562\n"
     ]
    }
   ],
   "source": [
    "corpus = UDSCorpus(split=\"dev\")\n",
    "LONG_LIMIT = 0\n",
    "# here only consider long sentences\n",
    "# get avg sentence len\n",
    "all_lens = []\n",
    "for sid, graph in corpus.items():\n",
    "    all_lens.append(len(re.split(\"\\s+\", graph.sentence)))\n",
    "avg_len = sum(all_lens)/len(all_lens)\n",
    "print(f\"avg len {avg_len}\")\n",
    "\n",
    "\n",
    "def get_midpoint(sent_idx):\n",
    "    sent_id = f\"ewt-dev-{sent_idx}\"\n",
    "    graph = corpus[sent_id]\n",
    "    sent = re.split(\"\\s+\", graph.sentence) \n",
    "    if len(sent) < LONG_LIMIT:\n",
    "        # mark for skipping\n",
    "        return None \n",
    "#     midpoint = len(sent)/2\n",
    "    # percentage done instead\n",
    "    return len(sent)\n",
    "    \n",
    "midpoint_dict = {k: {} for k in data.keys()} \n",
    "# for each sentence, get midpoint \n",
    "for model in midpoint_dict.keys():\n",
    "    for sent_idx in out_dict[model].keys():\n",
    "        midpoint = get_midpoint(sent_idx)\n",
    "        if midpoint is None:\n",
    "            # mark for skipping \n",
    "            continue\n",
    "        midpoint_dict[model][sent_idx] = midpoint\n"
   ]
  },
  {
   "cell_type": "code",
   "execution_count": 5,
   "metadata": {},
   "outputs": [
    {
     "name": "stdout",
     "output_type": "stream",
     "text": [
      "[1.033, 1.2321, 1.1329, -1.2252, -1.1617, 1.133, 1.0583, 1.0583, 1.0583, 0.0263]\n",
      "[0.8035169243812561, 0.7691439986228943, 1.1487634181976318, -0.2604743540287018, -0.19235529005527496, 0.8980245590209961, 0.9662803411483765, 0.9998868703842163, 1.0190861225128174, -0.36719292402267456]\n"
     ]
    }
   ],
   "source": [
    "# group pred and true values into buckets by distance from midpoint \n",
    "# bucket_dict: {distance: [subspace: (true, pred)...]}\n",
    "from collections import defaultdict\n",
    "bucket_dict = {k: defaultdict(lambda: defaultdict(lambda: defaultdict(list))) for k in data.keys()}\n",
    "binsize = 10\n",
    "\n",
    "for model, model_data in out_dict.items():\n",
    "    for sent_idx, sent_data in model_data.items():\n",
    "        try:\n",
    "            midpoint = midpoint_dict[model][sent_idx]\n",
    "        except KeyError:\n",
    "            # skip sentences less than 13\n",
    "            continue\n",
    "        for node_idx, node_data in sent_data.items():\n",
    "            # normalize nodes to be 0-indexed \n",
    "#             node_idx = node_idx - 1\n",
    "#             distance = int(midpoint - node_idx) \n",
    "            # use percentage of sentence done \n",
    "            true_distance = (node_idx/midpoint)*100\n",
    "            # round distance \n",
    "            distance = (true_distance // binsize) * 10\n",
    "            \n",
    "            true_data = np.ones(len(node_data)) \n",
    "            pred_data = np.ones(len(node_data)) \n",
    "            \n",
    "            for subspace, (tv, pv) in node_data.items():\n",
    "                bucket_dict[model][distance][subspace][\"true\"].append(tv)\n",
    "                bucket_dict[model][distance][subspace][\"pred\"].append(pv)\n",
    "\n",
    "\n",
    "print(bucket_dict['tfmr'][0][\"factuality-factual\"][\"true\"][0:10])\n",
    "print(bucket_dict['tfmr'][0][\"factuality-factual\"][\"pred\"][0:10])\n",
    "\n",
    "            \n"
   ]
  },
  {
   "cell_type": "code",
   "execution_count": 6,
   "metadata": {},
   "outputs": [
    {
     "name": "stdout",
     "output_type": "stream",
     "text": [
      "dict_keys(['tfmr', 'bilstm', 'unilstm', 'tfmr + en', 'bilstm + en'])\n",
      "defaultdict(<class 'list'>, {50.0: 0.647786483953221, 40.0: 0.6228015924224233, 80.0: 0.6208832244881002, 20.0: 0.6083725087324194, 10.0: 0.6321461818779313, 30.0: 0.6308276772708394, 0.0: 0.5880463039470407, 90.0: 0.6383124180326436, 70.0: 0.6235393770362053, 60.0: 0.6111672327120073, 100.0: 0.8632118256771107})\n"
     ]
    },
    {
     "name": "stderr",
     "output_type": "stream",
     "text": [
      "/home/hltcoe/estengel/envs/miso_res/lib/python3.6/site-packages/scipy/stats/stats.py:3508: PearsonRConstantInputWarning: An input array is constant; the correlation coefficent is not defined.\n",
      "  warnings.warn(PearsonRConstantInputWarning())\n"
     ]
    }
   ],
   "source": [
    "from scipy.stats import pearsonr \n",
    "\n",
    "# compute pearson for each bucket \n",
    "pearson_data = defaultdict(lambda: defaultdict(list))\n",
    "for model_name, model_bucket_dict in bucket_dict.items():\n",
    "    for distance, distance_dict in model_bucket_dict.items():\n",
    "        for subspace, subspace_dict in distance_dict.items():\n",
    "            true_vals = np.array(subspace_dict[\"true\"])\n",
    "            pred_vals = np.array(subspace_dict[\"pred\"])\n",
    "            if len(true_vals) > 10:\n",
    "                assert(len(true_vals) == len(pred_vals))\n",
    "            else:\n",
    "                continue\n",
    "            rho, p_val = pearsonr(true_vals, pred_vals)\n",
    "            if np.isnan(rho):\n",
    "                continue \n",
    "#             if rho < 0:\n",
    "#                 # skip for now\n",
    "#                 continue  \n",
    "            if p_val < 0.05:\n",
    "                pearson_data[model_name][distance].append(rho)\n",
    "\n",
    "for model, model_pearson_data in pearson_data.items():\n",
    "    for distance, distance_rhos in model_pearson_data.items():\n",
    "        avg_rho = np.mean(distance_rhos)\n",
    "        model_pearson_data[distance] = avg_rho\n",
    "    pearson_data[model] = model_pearson_data\n",
    "#         pearson_data[model][distance] = avg_rho \n",
    "    \n",
    "print(pearson_data.keys())\n",
    "print(pearson_data['tfmr'])\n",
    "\n"
   ]
  },
  {
   "cell_type": "code",
   "execution_count": 7,
   "metadata": {},
   "outputs": [
    {
     "name": "stdout",
     "output_type": "stream",
     "text": [
      "dict_items([(50.0, 0.5817491266211167), (40.0, 0.5684637913754029), (80.0, 0.5514289868070785), (20.0, 0.5227810565274913), (10.0, 0.5759031421525284), (30.0, 0.6332072204356902), (0.0, 0.5470193531930694), (90.0, 0.5662429550136671), (70.0, 0.5614718039650556), (60.0, 0.5698470713160205), (100.0, 0.8263957741320296)])\n",
      "dict_items([(50.0, 0.5580786973072701), (40.0, 0.5515411665331337), (80.0, 0.5323432261018686), (20.0, 0.54358873123549), (10.0, 0.5719073059332974), (30.0, 0.575054140493014), (0.0, 0.5634727837334246), (90.0, 0.5612529043463624), (70.0, 0.5459658747270804), (60.0, 0.5485486459860962), (100.0, 0.8433026654506339)])\n",
      "dict_items([(50.0, 0.647786483953221), (40.0, 0.6228015924224233), (80.0, 0.6208832244881002), (20.0, 0.6083725087324194), (10.0, 0.6321461818779313), (30.0, 0.6308276772708394), (0.0, 0.5880463039470407), (90.0, 0.6383124180326436), (70.0, 0.6235393770362053), (60.0, 0.6111672327120073), (100.0, 0.8632118256771107)])\n"
     ]
    },
    {
     "data": {
      "image/png": "[encoded data removed]",
      "text/plain": [
       "<Figure size 432x288 with 1 Axes>"
      ]
     },
     "metadata": {
      "needs_background": "light"
     },
     "output_type": "display_data"
    },
    {
     "data": {
      "image/png": "[encoded data removed]",
      "text/plain": [
       "<Figure size 432x288 with 1 Axes>"
      ]
     },
     "metadata": {
      "needs_background": "light"
     },
     "output_type": "display_data"
    },
    {
     "data": {
      "image/png": "[encoded data removed]",
      "text/plain": [
       "<Figure size 432x288 with 1 Axes>"
      ]
     },
     "metadata": {
      "needs_background": "light"
     },
     "output_type": "display_data"
    }
   ],
   "source": [
    "# plot separately \n",
    "def plot(pearson_dict):\n",
    "    plt.figure()\n",
    "    # sort by distance \n",
    "    print(pearson_dict.items())\n",
    "    distances, pearsons = zip(*sorted(pearson_dict.items(), key = lambda x : x[0]))\n",
    "    plt.bar(distances, pearsons, width=8)\n",
    "    plt.ylim(0, 1.0)\n",
    "\n",
    "    \n",
    "plot(pearson_data['unilstm'])\n",
    "plot(pearson_data['bilstm'])\n",
    "plot(pearson_data['tfmr'])\n"
   ]
  },
  {
   "cell_type": "code",
   "execution_count": 8,
   "metadata": {},
   "outputs": [
    {
     "data": {
      "text/plain": [
       "(0.0, 1.0)"
      ]
     },
     "execution_count": 8,
     "metadata": {},
     "output_type": "execute_result"
    },
    {
     "data": {
      "image/png": "[encoded data removed]",
      "text/plain": [
       "<Figure size 432x288 with 1 Axes>"
      ]
     },
     "metadata": {
      "needs_background": "light"
     },
     "output_type": "display_data"
    }
   ],
   "source": [
    "to_plot_xs = []\n",
    "to_plot_ys_bilstm = []\n",
    "to_plot_ys_unilstm = []\n",
    "to_plot_ys_tfmr = []\n",
    "\n",
    "\n",
    "for distance in pearson_data['bilstm'].keys():\n",
    "    if distance in pearson_data['tfmr'].keys() \\\n",
    "        and distance in pearson_data[\"unilstm\"].keys():\n",
    "        to_plot_xs.append(distance)\n",
    "        to_plot_ys_bilstm.append(pearson_data['bilstm'][distance])\n",
    "        to_plot_ys_unilstm.append(pearson_data['unilstm'][distance])\n",
    "        to_plot_ys_tfmr.append(pearson_data['tfmr'][distance])\n",
    "\n",
    "        \n",
    "\n",
    "plt.figure()\n",
    "\n",
    "plt.bar(to_plot_xs, to_plot_ys_tfmr, width=8, color=\"b\")\n",
    "plt.bar(to_plot_xs, to_plot_ys_unilstm, width=8, color=\"r\")\n",
    "plt.bar(to_plot_xs, to_plot_ys_bilstm, width=8, color='g')\n",
    "\n",
    "plt.ylim(0,1)\n"
   ]
  },
  {
   "cell_type": "code",
   "execution_count": 9,
   "metadata": {},
   "outputs": [],
   "source": [
    "# plot delta \n",
    "\n",
    "name_dict = {\"BILSTM\": \"BiLSTM\",\n",
    "            \"UNILSTM\": \"LSTM\",\n",
    "            \"TFMR\": \"TFMR\"}\n",
    "def plot_delta(ax, key1, key2):\n",
    "    blue = \"#67a9cf\"\n",
    "    red = \"#ef8a62\"\n",
    "    \n",
    "    to_plot_xs = []\n",
    "    to_plot_ys_deltas = []\n",
    "    to_plot_colors = []\n",
    "    for distance in pearson_data[key1].keys():\n",
    "        if distance in pearson_data[key2].keys():\n",
    "            to_plot_xs.append(distance)\n",
    "            delta = pearson_data[key2][distance] - pearson_data[key1][distance]\n",
    "            to_plot_ys_deltas.append(delta)\n",
    "            if delta > 0:\n",
    "                to_plot_colors.append(blue) \n",
    "            else:\n",
    "                to_plot_colors.append(red)\n",
    "                \n",
    "    ax.set_ylim(-0.03, 0.10)\n",
    "    ax.spines['top'].set_visible(False)\n",
    "    ax.spines['right'].set_visible(False)\n",
    "    ax.set_xticks([0, 50, 100])\n",
    "    ax.set_xticklabels(labels = [\"0%\", \"50%\", \"100%\"])\n",
    "    ax.set_yticks([-0.03, 0.0, 0.03, 0.06, 0.09])\n",
    "#     ax.spines['bottom'].set_visible(False)\n",
    "#     ax.spines['left'].set_visible(False)\n",
    "    ax.set_title(f\"{name_dict[key2.upper()]} - {name_dict[key1.upper()]}\")\n",
    "    ax.bar(to_plot_xs, to_plot_ys_deltas, width=8, color = to_plot_colors)\n",
    "\n",
    "#     plt.ylim(0,0.124)\n",
    "\n",
    "# plot_delta( \"bilstm\", \"tfmr\")"
   ]
  },
  {
   "cell_type": "code",
   "execution_count": 16,
   "metadata": {},
   "outputs": [
    {
     "data": {
      "image/png": "[encoded data removed]",
      "text/plain": [
       "<Figure size 576x216 with 2 Axes>"
      ]
     },
     "metadata": {
      "needs_background": "light"
     },
     "output_type": "display_data"
    }
   ],
   "source": [
    "\n",
    "fig, ax = plt.subplots(nrows=1, ncols=2, sharey = True, sharex = False, figsize=(8,3))\n",
    "plot_delta(ax[0], \"bilstm\",\"unilstm\")\n",
    "plot_delta(ax[1], \"bilstm\",\"tfmr\")\n",
    "plt.tight_layout() \n",
    "plt.savefig(os.path.join(PLOT_DIR, \"lstm_tfmr_pearson_percentiles.pdf\"))"
   ]
  },
  {
   "cell_type": "code",
   "execution_count": null,
   "metadata": {},
   "outputs": [],
   "source": []
  },
  {
   "cell_type": "code",
   "execution_count": 57,
   "metadata": {},
   "outputs": [
    {
     "data": {
      "image/png": "[encoded data removed]",
      "text/plain": [
       "<Figure size 432x288 with 1 Axes>"
      ]
     },
     "metadata": {
      "needs_background": "light"
     },
     "output_type": "display_data"
    }
   ],
   "source": [
    "plot_delta(\"tfmr\",\"unilstm\")"
   ]
  },
  {
   "cell_type": "code",
   "execution_count": 58,
   "metadata": {},
   "outputs": [
    {
     "data": {
      "image/png": "[encoded data removed]",
      "text/plain": [
       "<Figure size 432x288 with 1 Axes>"
      ]
     },
     "metadata": {
      "needs_background": "light"
     },
     "output_type": "display_data"
    }
   ],
   "source": [
    "plot_delta(\"bilstm\",\"lstm + en\")"
   ]
  },
  {
   "cell_type": "code",
   "execution_count": 59,
   "metadata": {},
   "outputs": [
    {
     "data": {
      "image/png": "[encoded data removed]",
      "text/plain": [
       "<Figure size 432x288 with 1 Axes>"
      ]
     },
     "metadata": {
      "needs_background": "light"
     },
     "output_type": "display_data"
    }
   ],
   "source": [
    "plot_delta(\"tfmr\",\"tfmr + en\")"
   ]
  },
  {
   "cell_type": "code",
   "execution_count": null,
   "metadata": {},
   "outputs": [],
   "source": []
  }
 ],
 "metadata": {
  "kernelspec": {
   "display_name": "Python 3",
   "language": "python",
   "name": "python3"
  },
  "language_info": {
   "codemirror_mode": {
    "name": "ipython",
    "version": 3
   },
   "file_extension": ".py",
   "mimetype": "text/x-python",
   "name": "python",
   "nbconvert_exporter": "python",
   "pygments_lexer": "ipython3",
   "version": "3.6.8"
  }
 },
 "nbformat": 4,
 "nbformat_minor": 4
}
