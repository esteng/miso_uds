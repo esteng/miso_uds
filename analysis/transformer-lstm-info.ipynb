{
 "cells": [
  {
   "cell_type": "code",
   "execution_count": 11,
   "metadata": {},
   "outputs": [],
   "source": [
    "import numpy as np\n",
    "from matplotlib import pyplot as plt\n",
    "import os\n",
    "import sys\n",
    "import json \n",
    "import re\n",
    "from decomp import UDSCorpus\n",
    "\n",
    "\n",
    "miso_path = \"/home/hltcoe/estengel/miso_research\"\n",
    "sys.path.insert(0, miso_path)"
   ]
  },
  {
   "cell_type": "code",
   "execution_count": 15,
   "metadata": {},
   "outputs": [],
   "source": [
    "transformer_data_path = \"/exp/estengel/miso_res/new_models/decomp-transformer-best/data.json\"\n",
    "lstm_data_path = \"/exp/estengel/miso_res/new_models/decomp-lstm-base/data.json\"\n",
    "\n",
    "with open(transformer_data_path) as tf1, open(lstm_data_path) as lf1:\n",
    "    tfmr_data = json.load(tf1)\n",
    "    lstm_data = json.load(lf1)\n",
    "    \n",
    "# build ontology\n",
    "attribute_ontology = list(sorted(tfmr_data.keys()))\n",
    "    "
   ]
  },
  {
   "cell_type": "code",
   "execution_count": 6,
   "metadata": {},
   "outputs": [
    {
     "name": "stdout",
     "output_type": "stream",
     "text": [
      "dict_keys([4, 3, 6])\n"
     ]
    }
   ],
   "source": [
    "# need to re-munge output \n",
    "# current output: {subspace: {true: {nodes},\n",
    "#                              pred: {nodes}}\n",
    "# what we want:\n",
    "# {sentence: {node_id: {subspace: (true, pred)}}}\n",
    "\n",
    "def get_sent_id(whole_id):\n",
    "    sent_id = \"-\".join(whole_id.split(\"-\")[0:3])\n",
    "    sent_idx = int(whole_id.split(\"-\")[2])\n",
    "    return sent_id, sent_idx\n",
    "\n",
    "def get_node_id(whole_id):\n",
    "    node_id = \"-\".join(whole_id.split(\"-\")[3:])\n",
    "    node_idx = int(whole_id.split(\"-\")[-1])\n",
    "    return node_id, node_idx\n",
    "\n",
    "out_dict = {\"tfmr\": {},\n",
    "            \"lstm\": {}}\n",
    "for model, model_data in zip([\"lstm\", \"tfmr\"], [lstm_data, tfmr_data]):\n",
    "    lil_dict = out_dict[model]\n",
    "    # loop once to collect all sentence ids and node ids \n",
    "    for subspace_id, subspace_dict in model_data.items():\n",
    "        for whole_id in subspace_dict[\"true_val_with_node_ids\"]:\n",
    "            sent_id, sent_idx = get_sent_id(whole_id)\n",
    "            if sent_idx not in lil_dict.keys():\n",
    "                lil_dict[sent_idx] = {}\n",
    "            node_id, node_idx = get_node_id(whole_id)\n",
    "            if node_idx not in lil_dict[sent_idx].keys():\n",
    "                lil_dict[sent_idx][node_idx] = {}\n",
    "                \n",
    "            true_node_value = subspace_dict[\"true_val_with_node_ids\"][whole_id]\n",
    "            pred_node_value = subspace_dict[\"pred_val_with_node_ids\"][whole_id]\n",
    "            lil_dict[sent_idx][node_idx][subspace_id] = (true_node_value, pred_node_value)\n",
    "            \n",
    "    out_dict[model] = lil_dict\n",
    "            "
   ]
  },
  {
   "cell_type": "code",
   "execution_count": 13,
   "metadata": {},
   "outputs": [
    {
     "name": "stdout",
     "output_type": "stream",
     "text": [
      "3.5\n"
     ]
    }
   ],
   "source": [
    "corpus = UDSCorpus(split=\"dev\")\n",
    "\n",
    "def get_midpoint(sent_idx):\n",
    "    sent_id = f\"ewt-dev-{sent_idx}\"\n",
    "    graph = corpus[sent_id]\n",
    "    sent = re.split(\"\\s+\", graph.sentence) \n",
    "    midpoint = len(sent)/2\n",
    "    return midpoint\n",
    "    \n",
    "midpoint_dict = {\"lstm\": {},\n",
    "                 \"tfmr\": {}}\n",
    "# for each sentence, get midpoint \n",
    "for model in midpoint_dict.keys():\n",
    "    for sent_idx in out_dict[model].keys():\n",
    "        midpoint = get_midpoint(sent_idx)\n",
    "        midpoint_dict[model][sent_idx] = midpoint\n"
   ]
  },
  {
   "cell_type": "code",
   "execution_count": 25,
   "metadata": {},
   "outputs": [
    {
     "name": "stdout",
     "output_type": "stream",
     "text": [
      "[0.967, 1.2089, 1.2089, 1.1329, 1.0583, 1.0835, 1.0834, 0.0912, 0.1502, -1.1059]\n",
      "[0.9637286067008972, 1.0221346616744995, 1.0215191841125488, 1.0856925249099731, 0.9973695278167725, 1.0027951002120972, 0.890845000743866, -1.1816179752349854, -0.1315755695104599, -1.015701413154602]\n"
     ]
    }
   ],
   "source": [
    "# group pred and true values into buckets by distance from midpoint \n",
    "# bucket_dict: {distance: [subspace: (true, pred)...]}\n",
    "from collections import defaultdict\n",
    "bucket_dict = {\"lstm\": defaultdict(lambda: defaultdict(lambda: defaultdict(list))),\n",
    "               \"tfmr\": defaultdict(lambda: defaultdict(lambda: defaultdict(list)))}\n",
    "\n",
    "for model, model_data in out_dict.items():\n",
    "    for sent_idx, sent_data in model_data.items():\n",
    "        midpoint = midpoint_dict[model][sent_idx]\n",
    "        for node_idx, node_data in sent_data.items():\n",
    "            # normalize nodes to be 0-indexed \n",
    "            node_idx = node_idx - 1\n",
    "            distance = int(midpoint - node_idx) \n",
    "\n",
    "            true_data = np.ones(len(node_data)) \n",
    "            pred_data = np.ones(len(node_data)) \n",
    "            \n",
    "            for subspace, (tv, pv) in node_data.items():\n",
    "                bucket_dict[model][distance][subspace][\"true\"].append(tv)\n",
    "                bucket_dict[model][distance][subspace][\"pred\"].append(pv)\n",
    "\n",
    "\n",
    "print(bucket_dict['tfmr'][0][\"factuality-factual\"][\"true\"][0:10])\n",
    "print(bucket_dict['tfmr'][0][\"factuality-factual\"][\"pred\"][0:10])\n",
    "\n",
    "            \n"
   ]
  },
  {
   "cell_type": "code",
   "execution_count": 47,
   "metadata": {},
   "outputs": [
    {
     "name": "stdout",
     "output_type": "stream",
     "text": [
      "dict_keys(['lstm', 'tfmr'])\n",
      "defaultdict(<class 'list'>, {0: 0.6219153019403822, 1: 0.6587174868085449, -1: 0.66866315843719, 5: 0.6658973687163535, 8: 0.745223036608054, 6: 0.6966717354172496, 3: 0.6675080289583945, 13: 0.8136022675698553, -9: 0.7458160538139034, 14: 0.7856340921660527, 10: 0.6898732278272636, 4: 0.648197158666344, -12: 0.8661908807551243, -10: 0.747166334460197, 15: 0.5157399102967165, -13: 0.9126609107485586, 9: 0.7700349890827861, -6: 0.7224419671412878, -7: 0.745932894538752, 12: 0.7614114154219884, 7: 0.6800902146769608, -8: 0.7781317972922094, -11: 0.8133568422652447, 11: 0.7646018907143544, 2: 0.6490396822559757, -3: 0.6337823396834102, -4: 0.7018462284724727, -2: 0.677273581459402, -5: 0.7499875842066762, 17: 0.7593207249832028, 16: 0.5611380762619813, 18: 0.690752700077333, -15: 0.5540716149099999, -16: 0.7068283903727753, -14: 0.5344299429565637})\n"
     ]
    }
   ],
   "source": [
    "from scipy.stats import pearsonr \n",
    "\n",
    "# compute pearson for each bucket \n",
    "pearson_data = defaultdict(lambda: defaultdict(list))\n",
    "for model_name, model_bucket_dict in bucket_dict.items():\n",
    "    for distance, distance_dict in model_bucket_dict.items():\n",
    "        for subspace, subspace_dict in distance_dict.items():\n",
    "            true_vals = np.array(subspace_dict[\"true\"])\n",
    "            pred_vals = np.array(subspace_dict[\"pred\"])\n",
    "            if len(true_vals) > 10:\n",
    "                assert(len(true_vals) == len(pred_vals))\n",
    "            else:\n",
    "                continue\n",
    "            rho, p_val = pearsonr(true_vals, pred_vals)\n",
    "            if np.isnan(rho):\n",
    "                continue \n",
    "            if rho < 0:\n",
    "                # skip for now\n",
    "                continue\n",
    "                \n",
    "            if p_val < 0.05:\n",
    "                pearson_data[model_name][distance].append(rho)\n",
    "\n",
    "for model, model_pearson_data in pearson_data.items():\n",
    "    for distance, distance_rhos in model_pearson_data.items():\n",
    "        avg_rho = np.mean(distance_rhos)\n",
    "        model_pearson_data[distance] = avg_rho\n",
    "    pearson_data[model] = model_pearson_data\n",
    "#         pearson_data[model][distance] = avg_rho \n",
    "    \n",
    "print(pearson_data.keys())\n",
    "print(pearson_data['tfmr'])\n",
    "\n"
   ]
  },
  {
   "cell_type": "code",
   "execution_count": 48,
   "metadata": {},
   "outputs": [
    {
     "name": "stdout",
     "output_type": "stream",
     "text": [
      "dict_items([(0, 0.556276486469275), (1, 0.6322775424355092), (-1, 0.6013880383626199), (5, 0.6087298144755191), (8, 0.6445496889937945), (6, 0.6434741007624013), (3, 0.5923015721613419), (13, 0.7052162131260579), (-9, 0.7133503063006529), (14, 0.7700777977717379), (10, 0.6376566075785647), (4, 0.6004528541231173), (-12, 0.7948052285825742), (-10, 0.6368011087192788), (15, 0.5152961606791485), (-13, 0.7880121695383546), (9, 0.7579871845072069), (-6, 0.6569042670008093), (-7, 0.6065309661635017), (12, 0.7005513505752906), (7, 0.6218645415914352), (-8, 0.6913047479129192), (-11, 0.78171091938577), (11, 0.6413996104416766), (2, 0.5617181909650077), (-3, 0.5983631650823014), (-4, 0.6267397448707195), (-2, 0.5801032639898537), (-5, 0.6432617182407898), (16, 0.5946841100902392), (-16, 0.5900224333210741), (-14, 0.591336264247167)])\n",
      "dict_items([(0, 0.6219153019403822), (1, 0.6587174868085449), (-1, 0.66866315843719), (5, 0.6658973687163535), (8, 0.745223036608054), (6, 0.6966717354172496), (3, 0.6675080289583945), (13, 0.8136022675698553), (-9, 0.7458160538139034), (14, 0.7856340921660527), (10, 0.6898732278272636), (4, 0.648197158666344), (-12, 0.8661908807551243), (-10, 0.747166334460197), (15, 0.5157399102967165), (-13, 0.9126609107485586), (9, 0.7700349890827861), (-6, 0.7224419671412878), (-7, 0.745932894538752), (12, 0.7614114154219884), (7, 0.6800902146769608), (-8, 0.7781317972922094), (-11, 0.8133568422652447), (11, 0.7646018907143544), (2, 0.6490396822559757), (-3, 0.6337823396834102), (-4, 0.7018462284724727), (-2, 0.677273581459402), (-5, 0.7499875842066762), (17, 0.7593207249832028), (16, 0.5611380762619813), (18, 0.690752700077333), (-15, 0.5540716149099999), (-16, 0.7068283903727753), (-14, 0.5344299429565637)])\n"
     ]
    },
    {
     "data": {
      "image/png": "[encoded data removed]",
      "text/plain": [
       "<Figure size 432x288 with 1 Axes>"
      ]
     },
     "metadata": {
      "needs_background": "light"
     },
     "output_type": "display_data"
    },
    {
     "data": {
      "image/png": "[encoded data removed]",
      "text/plain": [
       "<Figure size 432x288 with 1 Axes>"
      ]
     },
     "metadata": {
      "needs_background": "light"
     },
     "output_type": "display_data"
    }
   ],
   "source": [
    "# plot separately \n",
    "def plot(pearson_dict):\n",
    "    plt.figure()\n",
    "    # sort by distance \n",
    "    print(pearson_dict.items())\n",
    "    distances, pearsons = zip(*sorted(pearson_dict.items(), key = lambda x : x[0]))\n",
    "    plt.bar(distances, pearsons)\n",
    "\n",
    "plot(pearson_data['lstm'])\n",
    "plot(pearson_data['tfmr'])\n"
   ]
  },
  {
   "cell_type": "code",
   "execution_count": 54,
   "metadata": {},
   "outputs": [
    {
     "data": {
      "text/plain": [
       "<BarContainer object of 32 artists>"
      ]
     },
     "execution_count": 54,
     "metadata": {},
     "output_type": "execute_result"
    },
    {
     "data": {
      "image/png": "[encoded data removed]",
      "text/plain": [
       "<Figure size 432x288 with 1 Axes>"
      ]
     },
     "metadata": {
      "needs_background": "light"
     },
     "output_type": "display_data"
    }
   ],
   "source": [
    "to_plot_xs = []\n",
    "to_plot_ys_lstm = []\n",
    "to_plot_ys_tfmr = []\n",
    "\n",
    "\n",
    "for distance in pearson_data['lstm'].keys():\n",
    "    if distance in pearson_data['tfmr'].keys():\n",
    "        to_plot_xs.append(distance)\n",
    "        to_plot_ys_lstm.append(pearson_data['lstm'][distance])\n",
    "        to_plot_ys_tfmr.append(pearson_data['tfmr'][distance])\n",
    "\n",
    "plt.figure()\n",
    "\n",
    "plt.bar(to_plot_xs, to_plot_ys_tfmr, color='r')\n",
    "plt.bar(to_plot_xs, to_plot_ys_lstm, color='b')\n"
   ]
  },
  {
   "cell_type": "code",
   "execution_count": null,
   "metadata": {},
   "outputs": [],
   "source": []
  }
 ],
 "metadata": {
  "kernelspec": {
   "display_name": "Python 3",
   "language": "python",
   "name": "python3"
  },
  "language_info": {
   "codemirror_mode": {
    "name": "ipython",
    "version": 3
   },
   "file_extension": ".py",
   "mimetype": "text/x-python",
   "name": "python",
   "nbconvert_exporter": "python",
   "pygments_lexer": "ipython3",
   "version": "3.6.8"
  }
 },
 "nbformat": 4,
 "nbformat_minor": 4
}
